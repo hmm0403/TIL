{
  "nbformat": 4,
  "nbformat_minor": 0,
  "metadata": {
    "colab": {
      "name": "pagerank.ipynb",
      "provenance": [],
      "authorship_tag": "ABX9TyN9JOStp+tNS7Jqs5nKjWz/",
      "include_colab_link": true
    },
    "kernelspec": {
      "name": "python3",
      "display_name": "Python 3"
    },
    "language_info": {
      "name": "python"
    },
    "gpuClass": "standard"
  },
  "cells": [
    {
      "cell_type": "markdown",
      "metadata": {
        "id": "view-in-github",
        "colab_type": "text"
      },
      "source": [
        "<a href=\"https://colab.research.google.com/github/hmm0403/TIL/blob/main/pagerank.ipynb\" target=\"_parent\"><img src=\"https://colab.research.google.com/assets/colab-badge.svg\" alt=\"Open In Colab\"/></a>"
      ]
    },
    {
      "cell_type": "markdown",
      "source": [
        "## Graphs and PageRank in Python - Math"
      ],
      "metadata": {
        "id": "eBb6L3E5hbjQ"
      }
    },
    {
      "cell_type": "code",
      "source": [
        "import matplotlib.pyplot as plt\n",
        "import networkx as nx\n",
        "import numpy as np\n",
        "\n",
        "G=nx.DiGraph()"
      ],
      "metadata": {
        "id": "w9ZNxsy7hfNy"
      },
      "execution_count": null,
      "outputs": []
    },
    {
      "cell_type": "code",
      "source": [
        "# a list of nodes:\n",
        "pages = [\"1\",\"2\",\"3\",\"4\"]\n",
        "G.add_nodes_from(pages)\n",
        "\n",
        "print(\"Nodes of graph: \")\n",
        "print(G.nodes())\n",
        "print(\"Edges of graph: \")\n",
        "print(G.edges())"
      ],
      "metadata": {
        "colab": {
          "base_uri": "https://localhost:8080/"
        },
        "id": "oGjul6u1hff5",
        "outputId": "ce23a4c4-d8c1-4035-e410-a215a58ee218"
      },
      "execution_count": null,
      "outputs": [
        {
          "output_type": "stream",
          "name": "stdout",
          "text": [
            "Nodes of graph: \n",
            "['1', '2', '3', '4']\n",
            "Edges of graph: \n",
            "[]\n"
          ]
        }
      ]
    },
    {
      "cell_type": "code",
      "source": [
        "G.add_edges_from([('1','2'), ('1','4'),('1','3'), ('4','1'),('2','3'),('2','4'),('3','1'),('4','3')])\n",
        "print(\"Nodes of graph: \")\n",
        "print(G.nodes())\n",
        "print(\"Edges of graph: \")\n",
        "print(G.edges())\n",
        "\n",
        "# The function G.out_edges('node') returns the numbers of nodes 'node' links to.\n",
        "\n",
        "print(\"Number of outward links for each node:\")\n",
        "for page in pages:\n",
        "    print([\"Page %s = %s\"% (page,str(len(G.out_edges(page))))])"
      ],
      "metadata": {
        "colab": {
          "base_uri": "https://localhost:8080/"
        },
        "id": "qOwSrraDhfiz",
        "outputId": "acb37cf2-ac85-4f99-df5c-c26c096641d4"
      },
      "execution_count": null,
      "outputs": [
        {
          "output_type": "stream",
          "name": "stdout",
          "text": [
            "Nodes of graph: \n",
            "['1', '2', '3', '4']\n",
            "Edges of graph: \n",
            "[('1', '2'), ('1', '4'), ('1', '3'), ('2', '3'), ('2', '4'), ('3', '1'), ('4', '1'), ('4', '3')]\n",
            "Number of outward links for each node:\n",
            "['Page 1 = 3']\n",
            "['Page 2 = 2']\n",
            "['Page 3 = 1']\n",
            "['Page 4 = 2']\n"
          ]
        }
      ]
    },
    {
      "cell_type": "code",
      "source": [
        "nx.draw(G, with_labels = True)\n",
        "plt.show() # display"
      ],
      "metadata": {
        "colab": {
          "base_uri": "https://localhost:8080/",
          "height": 319
        },
        "id": "U2wdc065hfl6",
        "outputId": "b10e9d35-88f1-4997-b648-0e6ac4074b9b"
      },
      "execution_count": null,
      "outputs": [
        {
          "output_type": "display_data",
          "data": {
            "text/plain": [
              "<Figure size 432x288 with 1 Axes>"
            ],
            "image/png": "[encoded data removed]"
          },
          "metadata": {}
        }
      ]
    },
    {
      "cell_type": "code",
      "source": [
        "def findPageRank(linkmatrix,pages):\n",
        "    eigval, eigvector= np.linalg.eig(linkmatrix)\n",
        "    dominant_eigval = np.abs(eigval).max()\n",
        "    PageRank= np.where(eigval == dominant_eigval)\n",
        "    print(\"The most important node is %s\"% str(pages[PageRank[0][0]]))\n",
        "    \n",
        "linkmatrix = np.matrix([[0,0,1,0.5],\n",
        "                      [1.0/3,0,0,0],\n",
        "                      [1.0/3,0,0.5,0.5],\n",
        "                      [1.0/3,0,0.5,0]])\n",
        "findPageRank(linkmatrix,pages)"
      ],
      "metadata": {
        "colab": {
          "base_uri": "https://localhost:8080/"
        },
        "id": "7Cwx4_XGhfpQ",
        "outputId": "b7cc4da3-e5a1-4041-8682-9fbcab69e678"
      },
      "execution_count": null,
      "outputs": [
        {
          "output_type": "stream",
          "name": "stdout",
          "text": [
            "The most important node is 2\n"
          ]
        }
      ]
    },
    {
      "cell_type": "code",
      "source": [
        "G_Altgeld=nx.DiGraph()\n",
        "locations = [\"Office 366\",\"Bottom of Spiral\",\"Soda Machine\",\"Office 326\",\n",
        "                  \"Post Office\",\"Library\",\"Wall Across Room 441\",\"Room 239\"]\n",
        "G.add_nodes_from(locations)\n",
        "G_Altgeld.add_edges_from([('Office 366','Wall Across Room 441'),\n",
        "                         ('Bottom of Spiral','Office 366'),('Bottom of Spiral','Soda Machine'),\n",
        "                         ('Soda Machine','Room 239'),\n",
        "                         ('Office 326','Soda Machine'),('Office 326','Bottom of Spiral'),('Office 326','Wall Across Room 441'),\n",
        "                         ('Post Office','Bottom of Spiral'),('Post Office','Library'),\n",
        "                         ('Library','Soda Machine'),('Library','Wall Across Room 441'),\n",
        "                         ('Wall Across Room 441','Post Office'),('Wall Across Room 441','Room 239'),\n",
        "                         ('Room 239', 'Office 366'),('Room 239','Bottom of Spiral'),('Room 239','Office 326')])\n",
        "i = 0\n",
        "for name in locations:\n",
        "    i = i+1\n",
        "    print([\"%d:%s = %s\"% (i,name,str(len(G_Altgeld.out_edges(name))))])\n",
        "                \n",
        "nx.draw_circular(G_Altgeld,node_color='', with_labels = True)\n",
        "plt.show() # display|"
      ],
      "metadata": {
        "colab": {
          "base_uri": "https://localhost:8080/",
          "height": 524
        },
        "id": "By5ifvvfhfsK",
        "outputId": "64e9c3d7-6610-4c6c-cc45-295eb8fa05ab"
      },
      "execution_count": null,
      "outputs": [
        {
          "output_type": "stream",
          "name": "stdout",
          "text": [
            "['1:Office 366 = 1']\n",
            "['2:Bottom of Spiral = 2']\n",
            "['3:Soda Machine = 1']\n",
            "['4:Office 326 = 3']\n",
            "['5:Post Office = 2']\n",
            "['6:Library = 2']\n",
            "['7:Wall Across Room 441 = 2']\n",
            "['8:Room 239 = 3']\n"
          ]
        },
        {
          "output_type": "stream",
          "name": "stderr",
          "text": [
            "/usr/local/lib/python3.7/dist-packages/networkx/drawing/nx_pylab.py:474: MatplotlibDeprecationWarning: Using a string of single character colors as a color sequence is deprecated. Use an explicit list instead.\n",
            "  label=label,\n"
          ]
        },
        {
          "output_type": "display_data",
          "data": {
            "text/plain": [
              "<Figure size 432x288 with 1 Axes>"
            ],
            "image/png": "[encoded data removed]"
          },
          "metadata": {}
        }
      ]
    },
    {
      "cell_type": "code",
      "source": [
        "linkmatrix_Altgeld = np.matrix([[0,0,0,0,0,0,0,0],\n",
        "                               [0,0,0,0,0,0,0,0],\n",
        "                               [0,0,0,0,0,0,0,0],\n",
        "                               [0,0,0,0,0,0,0,0],\n",
        "                               [0,0,0,0,0,0,0,0],\n",
        "                               [0,0,0,0,0,0,0,0],\n",
        "                               [0,0,0,0,0,0,0,0],\n",
        "                               [0,0,0,0,0,0,0,0]])\n",
        "findPageRank(linkmatrix_Altgeld,locations)"
      ],
      "metadata": {
        "colab": {
          "base_uri": "https://localhost:8080/"
        },
        "id": "Ynp7p9Kohfu_",
        "outputId": "0681a5e7-5364-4de6-c5fe-154067ce61de"
      },
      "execution_count": null,
      "outputs": [
        {
          "output_type": "stream",
          "name": "stdout",
          "text": [
            "The most important node is Office 366\n"
          ]
        }
      ]
    },
    {
      "cell_type": "code",
      "source": [
        "from math import fabs\n",
        "from time import time\n",
        "\n",
        "data = open('web-Google.txt')\n",
        "N =  875713\n",
        "tax_rate = 0.8\n",
        "eps = 1e-6\n",
        "r = [1./N for i in range(N)]\n",
        "r2 = [1./N for i in range(N)]\n",
        "out_degree = [0 for i in range(N)]\n",
        "m = [[] for i in range(N*2)]\n",
        "hash_table = [-1 for i in range(N*2)]\n",
        "idx = 0\n",
        "\n",
        "def hash(x):\n",
        "\tglobal idx\n",
        "\tif hash_table[x] == -1:\n",
        "\t\thash_table[x] = idx\n",
        "\t\tidx += 1\n",
        "\treturn hash_table[x]\n",
        "\n",
        "data.readline()\n",
        "data.readline()\n",
        "data.readline()\n",
        "data.readline()\n",
        "for line in data:\n",
        "\tx, y = map(hash, map(int, line.split()))\n",
        "\tout_degree[x] += 1\n",
        "\tm[y].append(x)\n",
        "\n",
        "print('data loaded')\n",
        "print('start iterating...')\n",
        "\n",
        "t = 0\n",
        "begin = time()\n",
        "\n",
        "while True:\n",
        "\tfor i in range(N):\n",
        "\t\tr[i] = 0\n",
        "\t\tfor in_id in m[i]:\n",
        "\t\t\tr[i] += tax_rate * r2[in_id] / out_degree[in_id]\n",
        "\tder = 1 - sum(r)\n",
        "\tfor i in range(N):\n",
        "\t\tr[i] += der / N\n",
        "\n",
        "\ttag = 0\n",
        "\tfor i in range(N):\n",
        "\t\tif fabs(r[i]-r2[i]) > eps:\n",
        "\t\t\ttag = 1\n",
        "\t\t\tbreak\n",
        "\tfor i in range(N):\n",
        "\t\tr2[i] = r[i]\n",
        "\tt += 1\n",
        "\tif tag == 0:\n",
        "\t\tbreak\n",
        "\n",
        "end = time()\n",
        "print(r[hash(99)])\n",
        "print('total iteration is %d' % t)\n",
        "print('total time is %f' % (end - begin))"
      ],
      "metadata": {
        "colab": {
          "base_uri": "https://localhost:8080/",
          "height": 377
        },
        "id": "tOF68xooiHLV",
        "outputId": "c70df0ba-888b-421c-eaec-2c6c7367d340"
      },
      "execution_count": 24,
      "outputs": [
        {
          "output_type": "error",
          "ename": "IndexError",
          "evalue": "ignored",
          "traceback": [
            "\u001b[0;31m---------------------------------------------------------------------------\u001b[0m",
            "\u001b[0;31mIndexError\u001b[0m                                Traceback (most recent call last)",
            "\u001b[0;32m<ipython-input-24-090221d7a7a8>\u001b[0m in \u001b[0;36m<module>\u001b[0;34m()\u001b[0m\n\u001b[1;32m     25\u001b[0m \u001b[0mdata\u001b[0m\u001b[0;34m.\u001b[0m\u001b[0mreadline\u001b[0m\u001b[0;34m(\u001b[0m\u001b[0;34m)\u001b[0m\u001b[0;34m\u001b[0m\u001b[0;34m\u001b[0m\u001b[0m\n\u001b[1;32m     26\u001b[0m \u001b[0;32mfor\u001b[0m \u001b[0mline\u001b[0m \u001b[0;32min\u001b[0m \u001b[0mdata\u001b[0m\u001b[0;34m:\u001b[0m\u001b[0;34m\u001b[0m\u001b[0;34m\u001b[0m\u001b[0m\n\u001b[0;32m---> 27\u001b[0;31m         \u001b[0mx\u001b[0m\u001b[0;34m,\u001b[0m \u001b[0my\u001b[0m \u001b[0;34m=\u001b[0m \u001b[0mmap\u001b[0m\u001b[0;34m(\u001b[0m\u001b[0mhash\u001b[0m\u001b[0;34m,\u001b[0m \u001b[0mmap\u001b[0m\u001b[0;34m(\u001b[0m\u001b[0mint\u001b[0m\u001b[0;34m,\u001b[0m \u001b[0mline\u001b[0m\u001b[0;34m.\u001b[0m\u001b[0msplit\u001b[0m\u001b[0;34m(\u001b[0m\u001b[0;34m)\u001b[0m\u001b[0;34m)\u001b[0m\u001b[0;34m)\u001b[0m\u001b[0;34m\u001b[0m\u001b[0;34m\u001b[0m\u001b[0m\n\u001b[0m\u001b[1;32m     28\u001b[0m         \u001b[0mout_degree\u001b[0m\u001b[0;34m[\u001b[0m\u001b[0mx\u001b[0m\u001b[0;34m]\u001b[0m \u001b[0;34m+=\u001b[0m \u001b[0;36m1\u001b[0m\u001b[0;34m\u001b[0m\u001b[0;34m\u001b[0m\u001b[0m\n\u001b[1;32m     29\u001b[0m         \u001b[0mm\u001b[0m\u001b[0;34m[\u001b[0m\u001b[0my\u001b[0m\u001b[0;34m]\u001b[0m\u001b[0;34m.\u001b[0m\u001b[0mappend\u001b[0m\u001b[0;34m(\u001b[0m\u001b[0mx\u001b[0m\u001b[0;34m)\u001b[0m\u001b[0;34m\u001b[0m\u001b[0;34m\u001b[0m\u001b[0m\n",
            "\u001b[0;32m<ipython-input-24-090221d7a7a8>\u001b[0m in \u001b[0;36mhash\u001b[0;34m(x)\u001b[0m\n\u001b[1;32m     15\u001b[0m \u001b[0;32mdef\u001b[0m \u001b[0mhash\u001b[0m\u001b[0;34m(\u001b[0m\u001b[0mx\u001b[0m\u001b[0;34m)\u001b[0m\u001b[0;34m:\u001b[0m\u001b[0;34m\u001b[0m\u001b[0;34m\u001b[0m\u001b[0m\n\u001b[1;32m     16\u001b[0m         \u001b[0;32mglobal\u001b[0m \u001b[0midx\u001b[0m\u001b[0;34m\u001b[0m\u001b[0;34m\u001b[0m\u001b[0m\n\u001b[0;32m---> 17\u001b[0;31m         \u001b[0;32mif\u001b[0m \u001b[0mhash_table\u001b[0m\u001b[0;34m[\u001b[0m\u001b[0mx\u001b[0m\u001b[0;34m]\u001b[0m \u001b[0;34m==\u001b[0m \u001b[0;34m-\u001b[0m\u001b[0;36m1\u001b[0m\u001b[0;34m:\u001b[0m\u001b[0;34m\u001b[0m\u001b[0;34m\u001b[0m\u001b[0m\n\u001b[0m\u001b[1;32m     18\u001b[0m                 \u001b[0mhash_table\u001b[0m\u001b[0;34m[\u001b[0m\u001b[0mx\u001b[0m\u001b[0;34m]\u001b[0m \u001b[0;34m=\u001b[0m \u001b[0midx\u001b[0m\u001b[0;34m\u001b[0m\u001b[0;34m\u001b[0m\u001b[0m\n\u001b[1;32m     19\u001b[0m                 \u001b[0midx\u001b[0m \u001b[0;34m+=\u001b[0m \u001b[0;36m1\u001b[0m\u001b[0;34m\u001b[0m\u001b[0;34m\u001b[0m\u001b[0m\n",
            "\u001b[0;31mIndexError\u001b[0m: list index out of range"
          ]
        }
      ]
    },
    {
      "cell_type": "code",
      "source": [
        "import numpy as np\n",
        "import matplotlib.pyplot as plt\n",
        "%matplotlib inline"
      ],
      "metadata": {
        "id": "f4dBPL2Wk2jR"
      },
      "execution_count": 25,
      "outputs": []
    },
    {
      "cell_type": "code",
      "source": [
        "#from utils import progress_bar_downloader\n",
        "import os\n",
        "\n",
        "pages_link = 'http://www.cs.ubc.ca/~nando/340-2009/lectures/pages.zip'\n",
        "dlname = 'pages.zip'\n",
        "#This will unzip into a directory called pages\n",
        "if not os.path.exists('./%s' % dlname):\n",
        "    progress_bar_downloader(pages_link, dlname)\n",
        "    os.system('unzip %s' % dlname)\n",
        "else:\n",
        "    print('%s already downloaded!' % dlname)"
      ],
      "metadata": {
        "colab": {
          "base_uri": "https://localhost:8080/",
          "height": 248
        },
        "id": "UHDEpOf_k3y6",
        "outputId": "bcfb4336-786d-473f-edcb-371bf5163372"
      },
      "execution_count": 30,
      "outputs": [
        {
          "output_type": "error",
          "ename": "NameError",
          "evalue": "ignored",
          "traceback": [
            "\u001b[0;31m---------------------------------------------------------------------------\u001b[0m",
            "\u001b[0;31mNameError\u001b[0m                                 Traceback (most recent call last)",
            "\u001b[0;32m<ipython-input-30-19cf02dc3965>\u001b[0m in \u001b[0;36m<module>\u001b[0;34m()\u001b[0m\n\u001b[1;32m      6\u001b[0m \u001b[0;31m#This will unzip into a directory called pages\u001b[0m\u001b[0;34m\u001b[0m\u001b[0;34m\u001b[0m\u001b[0;34m\u001b[0m\u001b[0m\n\u001b[1;32m      7\u001b[0m \u001b[0;32mif\u001b[0m \u001b[0;32mnot\u001b[0m \u001b[0mos\u001b[0m\u001b[0;34m.\u001b[0m\u001b[0mpath\u001b[0m\u001b[0;34m.\u001b[0m\u001b[0mexists\u001b[0m\u001b[0;34m(\u001b[0m\u001b[0;34m'./%s'\u001b[0m \u001b[0;34m%\u001b[0m \u001b[0mdlname\u001b[0m\u001b[0;34m)\u001b[0m\u001b[0;34m:\u001b[0m\u001b[0;34m\u001b[0m\u001b[0;34m\u001b[0m\u001b[0m\n\u001b[0;32m----> 8\u001b[0;31m     \u001b[0mprogress_bar_downloader\u001b[0m\u001b[0;34m(\u001b[0m\u001b[0mpages_link\u001b[0m\u001b[0;34m,\u001b[0m \u001b[0mdlname\u001b[0m\u001b[0;34m)\u001b[0m\u001b[0;34m\u001b[0m\u001b[0;34m\u001b[0m\u001b[0m\n\u001b[0m\u001b[1;32m      9\u001b[0m     \u001b[0mos\u001b[0m\u001b[0;34m.\u001b[0m\u001b[0msystem\u001b[0m\u001b[0;34m(\u001b[0m\u001b[0;34m'unzip %s'\u001b[0m \u001b[0;34m%\u001b[0m \u001b[0mdlname\u001b[0m\u001b[0;34m)\u001b[0m\u001b[0;34m\u001b[0m\u001b[0;34m\u001b[0m\u001b[0m\n\u001b[1;32m     10\u001b[0m \u001b[0;32melse\u001b[0m\u001b[0;34m:\u001b[0m\u001b[0;34m\u001b[0m\u001b[0;34m\u001b[0m\u001b[0m\n",
            "\u001b[0;31mNameError\u001b[0m: name 'progress_bar_downloader' is not defined"
          ]
        }
      ]
    },
    {
      "cell_type": "code",
      "source": [
        "#Quick and dirty link parsing as per http://www.cs.ubc.ca/~nando/540b-2011/lectures/book540.pdf\n",
        "links = {}\n",
        "for fname in os.listdir(dlname[:-4]):\n",
        "    links[fname] = []\n",
        "    f = open(dlname[:-4] + '/' + fname)\n",
        "    for line in f.readlines():\n",
        "        while True:\n",
        "            p = line.partition('<a href=\"http://')[2]\n",
        "            if p == '':\n",
        "                break\n",
        "            url, _, line = p.partition('\\\">')\n",
        "            links[fname].append(url)\n",
        "    f.close()"
      ],
      "metadata": {
        "colab": {
          "base_uri": "https://localhost:8080/",
          "height": 248
        },
        "id": "kYmoRfBgk5kL",
        "outputId": "9589b29d-ade4-48dd-b76f-01be32af66e3"
      },
      "execution_count": 31,
      "outputs": [
        {
          "output_type": "error",
          "ename": "FileNotFoundError",
          "evalue": "ignored",
          "traceback": [
            "\u001b[0;31m---------------------------------------------------------------------------\u001b[0m",
            "\u001b[0;31mFileNotFoundError\u001b[0m                         Traceback (most recent call last)",
            "\u001b[0;32m<ipython-input-31-3c4c4e6113dd>\u001b[0m in \u001b[0;36m<module>\u001b[0;34m()\u001b[0m\n\u001b[1;32m      1\u001b[0m \u001b[0;31m#Quick and dirty link parsing as per http://www.cs.ubc.ca/~nando/540b-2011/lectures/book540.pdf\u001b[0m\u001b[0;34m\u001b[0m\u001b[0;34m\u001b[0m\u001b[0;34m\u001b[0m\u001b[0m\n\u001b[1;32m      2\u001b[0m \u001b[0mlinks\u001b[0m \u001b[0;34m=\u001b[0m \u001b[0;34m{\u001b[0m\u001b[0;34m}\u001b[0m\u001b[0;34m\u001b[0m\u001b[0;34m\u001b[0m\u001b[0m\n\u001b[0;32m----> 3\u001b[0;31m \u001b[0;32mfor\u001b[0m \u001b[0mfname\u001b[0m \u001b[0;32min\u001b[0m \u001b[0mos\u001b[0m\u001b[0;34m.\u001b[0m\u001b[0mlistdir\u001b[0m\u001b[0;34m(\u001b[0m\u001b[0mdlname\u001b[0m\u001b[0;34m[\u001b[0m\u001b[0;34m:\u001b[0m\u001b[0;34m-\u001b[0m\u001b[0;36m4\u001b[0m\u001b[0;34m]\u001b[0m\u001b[0;34m)\u001b[0m\u001b[0;34m:\u001b[0m\u001b[0;34m\u001b[0m\u001b[0;34m\u001b[0m\u001b[0m\n\u001b[0m\u001b[1;32m      4\u001b[0m     \u001b[0mlinks\u001b[0m\u001b[0;34m[\u001b[0m\u001b[0mfname\u001b[0m\u001b[0;34m]\u001b[0m \u001b[0;34m=\u001b[0m \u001b[0;34m[\u001b[0m\u001b[0;34m]\u001b[0m\u001b[0;34m\u001b[0m\u001b[0;34m\u001b[0m\u001b[0m\n\u001b[1;32m      5\u001b[0m     \u001b[0mf\u001b[0m \u001b[0;34m=\u001b[0m \u001b[0mopen\u001b[0m\u001b[0;34m(\u001b[0m\u001b[0mdlname\u001b[0m\u001b[0;34m[\u001b[0m\u001b[0;34m:\u001b[0m\u001b[0;34m-\u001b[0m\u001b[0;36m4\u001b[0m\u001b[0;34m]\u001b[0m \u001b[0;34m+\u001b[0m \u001b[0;34m'/'\u001b[0m \u001b[0;34m+\u001b[0m \u001b[0mfname\u001b[0m\u001b[0;34m)\u001b[0m\u001b[0;34m\u001b[0m\u001b[0;34m\u001b[0m\u001b[0m\n",
            "\u001b[0;31mFileNotFoundError\u001b[0m: [Errno 2] No such file or directory: 'pages'"
          ]
        }
      ]
    },
    {
      "cell_type": "code",
      "source": [
        "import numpy as np\n",
        "import matplotlib.pyplot as plt\n",
        "num_pages = len(links.keys())\n",
        "G = np.zeros((num_pages, num_pages))\n",
        "\n",
        "#Assign identity numbers to each page, along with a reverse lookup\n",
        "idx = {}\n",
        "lookup = {}\n",
        "for n,k in enumerate(sorted(links.keys())):\n",
        "    idx[k] = n\n",
        "    lookup[n] = k\n",
        "\n",
        "#Go through all keys, and add a 1 for each link to another page\n",
        "for k in links.keys():\n",
        "    v = links[k]\n",
        "    for e in v:\n",
        "        G[idx[k],idx[e]] = 1\n",
        "\n",
        "#Add a small value (epsilon) to ensure a fully connected graph\n",
        "eps = 1. / num_pages\n",
        "G += eps * np.ones((num_pages, num_pages))\n",
        "G = G / np.sum(G, axis=1)"
      ],
      "metadata": {
        "id": "cA1Zi_rmlQbN"
      },
      "execution_count": null,
      "outputs": []
    },
    {
      "cell_type": "code",
      "source": [
        "#Now we run the Markov Chain until it converges from random initialization\n",
        "init = np.random.rand(1, num_pages)\n",
        "init = init / np.sum(init)\n",
        "probs = [init]\n",
        "p = init\n",
        "for i in range(100):\n",
        "    p = np.dot(p, G)\n",
        "    probs.append(p)\n",
        "\n",
        "for i in range(num_pages):\n",
        "    plt.plot([step[0, i] for step in probs], label=lookup[i], lw=2)\n",
        "    \n",
        "plt.legend()"
      ],
      "metadata": {
        "id": "6bsxp3vnlTTQ"
      },
      "execution_count": null,
      "outputs": []
    },
    {
      "cell_type": "code",
      "source": [
        "search = {}\n",
        "for fname in os.listdir(dlname[:-4]):\n",
        "    f = open(dlname[:-4] + '/' + fname)\n",
        "    for line in f.readlines():\n",
        "        #Ignore header lines\n",
        "        if '<' in line or '>' in line:\n",
        "            continue\n",
        "        words = line.strip().split(' ')\n",
        "        words = filter(lambda x: x != '', words)\n",
        "        #Remove references like [1], [2]\n",
        "        words = filter(lambda x: not ('[' in x or ']' in x), words)\n",
        "\n",
        "    for word in words:\n",
        "        if word in search:\n",
        "            if fname in search[word]:\n",
        "                search[word][fname] += 1\n",
        "            else:\n",
        "                search[word][fname] = 1\n",
        "        else:\n",
        "            search[word] = {fname: 1}\n",
        "    f.close()"
      ],
      "metadata": {
        "id": "ZbQcQ4lKlVA4"
      },
      "execution_count": null,
      "outputs": []
    },
    {
      "cell_type": "code",
      "source": [
        "def get_pr(fname):\n",
        "    return probs[-1][0, idx[fname]]\n",
        "\n",
        "r = search['film']\n",
        "print(sorted(r, reverse=True, key=get_pr))"
      ],
      "metadata": {
        "id": "SQc-FnhGlWfZ"
      },
      "execution_count": null,
      "outputs": []
    }
  ]
}