{
  "nbformat": 4,
  "nbformat_minor": 0,
  "metadata": {
    "colab": {
      "name": "Untitled8.ipynb",
      "provenance": [],
      "authorship_tag": "ABX9TyOoS96N00b98+h4IZ1JZTI7",
      "include_colab_link": true
    },
    "kernelspec": {
      "name": "python3",
      "display_name": "Python 3"
    },
    "language_info": {
      "name": "python"
    }
  },
  "cells": [
    {
      "cell_type": "markdown",
      "metadata": {
        "id": "view-in-github",
        "colab_type": "text"
      },
      "source": [
        "<a href=\"https://colab.research.google.com/github/hmm0403/TIL/blob/main/reg_%EC%97%BD%EC%9E%A5.ipynb\" target=\"_parent\"><img src=\"https://colab.research.google.com/assets/colab-badge.svg\" alt=\"Open In Colab\"/></a>"
      ]
    },
    {
      "cell_type": "code",
      "execution_count": 1,
      "metadata": {
        "colab": {
          "base_uri": "https://localhost:8080/",
          "height": 592
        },
        "id": "iJQr83fnZIGU",
        "outputId": "139b1c34-7ed6-40f5-b3cd-e6097825d6d7"
      },
      "outputs": [
        {
          "output_type": "execute_result",
          "data": {
            "text/plain": [
              "            시설ID    시도  시군구  품목명   품종   재배면적 시설유형 재배형태 단동/연동 구분  \\\n",
              "0  PF_0020968_01  전라북도  임실군  토마토  NaN  1,000  NaN  NaN      NaN   \n",
              "1  PF_0020968_01  전라북도  임실군  토마토  NaN  1,000  NaN  NaN      NaN   \n",
              "2  PF_0020968_01  전라북도  임실군  토마토  NaN  1,000  NaN  NaN      NaN   \n",
              "3  PF_0020968_01  전라북도  임실군  토마토  NaN  1,000  NaN  NaN      NaN   \n",
              "4  PF_0020968_01  전라북도  임실군  토마토  NaN  1,000  NaN  NaN      NaN   \n",
              "\n",
              "                수집일  ...  생장길이  화방높이  줄기직경  엽장    엽폭    엽수  개화군  착과군   열매수  \\\n",
              "0  2021-02-04 23:00  ...  15.0  18.0   9.0  34  68.0  16.0  1.0  4.0  14.0   \n",
              "1  2021-02-10 23:00  ...  17.0   6.0   7.0  30  60.0  17.0  1.0  4.0  17.0   \n",
              "2  2021-02-20 23:00  ...  22.0   9.0   8.0  31  62.0  14.0  1.0  NaN  15.0   \n",
              "3  2021-02-25 16:00  ...  12.0   3.0   9.0  29  58.0  14.0  1.0  4.0  15.0   \n",
              "4  2021-03-04 23:00  ...  16.0   8.0   9.0  29  58.0  11.0  1.0  3.0  14.0   \n",
              "\n",
              "   최종화방차수  \n",
              "0     0.0  \n",
              "1     NaN  \n",
              "2     NaN  \n",
              "3     NaN  \n",
              "4     NaN  \n",
              "\n",
              "[5 rows x 25 columns]"
            ],
            "text/html": [
              "\n",
              "  <div id=\"df-9d03e294-ee36-447c-8b9c-02f1233c98c6\">\n",
              "    <div class=\"colab-df-container\">\n",
              "      <div>\n",
              "<style scoped>\n",
              "    .dataframe tbody tr th:only-of-type {\n",
              "        vertical-align: middle;\n",
              "    }\n",
              "\n",
              "    .dataframe tbody tr th {\n",
              "        vertical-align: top;\n",
              "    }\n",
              "\n",
              "    .dataframe thead th {\n",
              "        text-align: right;\n",
              "    }\n",
              "</style>\n",
              "<table border=\"1\" class=\"dataframe\">\n",
              "  <thead>\n",
              "    <tr style=\"text-align: right;\">\n",
              "      <th></th>\n",
              "      <th>시설ID</th>\n",
              "      <th>시도</th>\n",
              "      <th>시군구</th>\n",
              "      <th>품목명</th>\n",
              "      <th>품종</th>\n",
              "      <th>재배면적</th>\n",
              "      <th>시설유형</th>\n",
              "      <th>재배형태</th>\n",
              "      <th>단동/연동 구분</th>\n",
              "      <th>수집일</th>\n",
              "      <th>...</th>\n",
              "      <th>생장길이</th>\n",
              "      <th>화방높이</th>\n",
              "      <th>줄기직경</th>\n",
              "      <th>엽장</th>\n",
              "      <th>엽폭</th>\n",
              "      <th>엽수</th>\n",
              "      <th>개화군</th>\n",
              "      <th>착과군</th>\n",
              "      <th>열매수</th>\n",
              "      <th>최종화방차수</th>\n",
              "    </tr>\n",
              "  </thead>\n",
              "  <tbody>\n",
              "    <tr>\n",
              "      <th>0</th>\n",
              "      <td>PF_0020968_01</td>\n",
              "      <td>전라북도</td>\n",
              "      <td>임실군</td>\n",
              "      <td>토마토</td>\n",
              "      <td>NaN</td>\n",
              "      <td>1,000</td>\n",
              "      <td>NaN</td>\n",
              "      <td>NaN</td>\n",
              "      <td>NaN</td>\n",
              "      <td>2021-02-04 23:00</td>\n",
              "      <td>...</td>\n",
              "      <td>15.0</td>\n",
              "      <td>18.0</td>\n",
              "      <td>9.0</td>\n",
              "      <td>34</td>\n",
              "      <td>68.0</td>\n",
              "      <td>16.0</td>\n",
              "      <td>1.0</td>\n",
              "      <td>4.0</td>\n",
              "      <td>14.0</td>\n",
              "      <td>0.0</td>\n",
              "    </tr>\n",
              "    <tr>\n",
              "      <th>1</th>\n",
              "      <td>PF_0020968_01</td>\n",
              "      <td>전라북도</td>\n",
              "      <td>임실군</td>\n",
              "      <td>토마토</td>\n",
              "      <td>NaN</td>\n",
              "      <td>1,000</td>\n",
              "      <td>NaN</td>\n",
              "      <td>NaN</td>\n",
              "      <td>NaN</td>\n",
              "      <td>2021-02-10 23:00</td>\n",
              "      <td>...</td>\n",
              "      <td>17.0</td>\n",
              "      <td>6.0</td>\n",
              "      <td>7.0</td>\n",
              "      <td>30</td>\n",
              "      <td>60.0</td>\n",
              "      <td>17.0</td>\n",
              "      <td>1.0</td>\n",
              "      <td>4.0</td>\n",
              "      <td>17.0</td>\n",
              "      <td>NaN</td>\n",
              "    </tr>\n",
              "    <tr>\n",
              "      <th>2</th>\n",
              "      <td>PF_0020968_01</td>\n",
              "      <td>전라북도</td>\n",
              "      <td>임실군</td>\n",
              "      <td>토마토</td>\n",
              "      <td>NaN</td>\n",
              "      <td>1,000</td>\n",
              "      <td>NaN</td>\n",
              "      <td>NaN</td>\n",
              "      <td>NaN</td>\n",
              "      <td>2021-02-20 23:00</td>\n",
              "      <td>...</td>\n",
              "      <td>22.0</td>\n",
              "      <td>9.0</td>\n",
              "      <td>8.0</td>\n",
              "      <td>31</td>\n",
              "      <td>62.0</td>\n",
              "      <td>14.0</td>\n",
              "      <td>1.0</td>\n",
              "      <td>NaN</td>\n",
              "      <td>15.0</td>\n",
              "      <td>NaN</td>\n",
              "    </tr>\n",
              "    <tr>\n",
              "      <th>3</th>\n",
              "      <td>PF_0020968_01</td>\n",
              "      <td>전라북도</td>\n",
              "      <td>임실군</td>\n",
              "      <td>토마토</td>\n",
              "      <td>NaN</td>\n",
              "      <td>1,000</td>\n",
              "      <td>NaN</td>\n",
              "      <td>NaN</td>\n",
              "      <td>NaN</td>\n",
              "      <td>2021-02-25 16:00</td>\n",
              "      <td>...</td>\n",
              "      <td>12.0</td>\n",
              "      <td>3.0</td>\n",
              "      <td>9.0</td>\n",
              "      <td>29</td>\n",
              "      <td>58.0</td>\n",
              "      <td>14.0</td>\n",
              "      <td>1.0</td>\n",
              "      <td>4.0</td>\n",
              "      <td>15.0</td>\n",
              "      <td>NaN</td>\n",
              "    </tr>\n",
              "    <tr>\n",
              "      <th>4</th>\n",
              "      <td>PF_0020968_01</td>\n",
              "      <td>전라북도</td>\n",
              "      <td>임실군</td>\n",
              "      <td>토마토</td>\n",
              "      <td>NaN</td>\n",
              "      <td>1,000</td>\n",
              "      <td>NaN</td>\n",
              "      <td>NaN</td>\n",
              "      <td>NaN</td>\n",
              "      <td>2021-03-04 23:00</td>\n",
              "      <td>...</td>\n",
              "      <td>16.0</td>\n",
              "      <td>8.0</td>\n",
              "      <td>9.0</td>\n",
              "      <td>29</td>\n",
              "      <td>58.0</td>\n",
              "      <td>11.0</td>\n",
              "      <td>1.0</td>\n",
              "      <td>3.0</td>\n",
              "      <td>14.0</td>\n",
              "      <td>NaN</td>\n",
              "    </tr>\n",
              "  </tbody>\n",
              "</table>\n",
              "<p>5 rows × 25 columns</p>\n",
              "</div>\n",
              "      <button class=\"colab-df-convert\" onclick=\"convertToInteractive('df-9d03e294-ee36-447c-8b9c-02f1233c98c6')\"\n",
              "              title=\"Convert this dataframe to an interactive table.\"\n",
              "              style=\"display:none;\">\n",
              "        \n",
              "  <svg xmlns=\"http://www.w3.org/2000/svg\" height=\"24px\"viewBox=\"0 0 24 24\"\n",
              "       width=\"24px\">\n",
              "    <path d=\"M0 0h24v24H0V0z\" fill=\"none\"/>\n",
              "    <path d=\"M18.56 5.44l.94 2.06.94-2.06 2.06-.94-2.06-.94-.94-2.06-.94 2.06-2.06.94zm-11 1L8.5 8.5l.94-2.06 2.06-.94-2.06-.94L8.5 2.5l-.94 2.06-2.06.94zm10 10l.94 2.06.94-2.06 2.06-.94-2.06-.94-.94-2.06-.94 2.06-2.06.94z\"/><path d=\"M17.41 7.96l-1.37-1.37c-.4-.4-.92-.59-1.43-.59-.52 0-1.04.2-1.43.59L10.3 9.45l-7.72 7.72c-.78.78-.78 2.05 0 2.83L4 21.41c.39.39.9.59 1.41.59.51 0 1.02-.2 1.41-.59l7.78-7.78 2.81-2.81c.8-.78.8-2.07 0-2.86zM5.41 20L4 18.59l7.72-7.72 1.47 1.35L5.41 20z\"/>\n",
              "  </svg>\n",
              "      </button>\n",
              "      \n",
              "  <style>\n",
              "    .colab-df-container {\n",
              "      display:flex;\n",
              "      flex-wrap:wrap;\n",
              "      gap: 12px;\n",
              "    }\n",
              "\n",
              "    .colab-df-convert {\n",
              "      background-color: #E8F0FE;\n",
              "      border: none;\n",
              "      border-radius: 50%;\n",
              "      cursor: pointer;\n",
              "      display: none;\n",
              "      fill: #1967D2;\n",
              "      height: 32px;\n",
              "      padding: 0 0 0 0;\n",
              "      width: 32px;\n",
              "    }\n",
              "\n",
              "    .colab-df-convert:hover {\n",
              "      background-color: #E2EBFA;\n",
              "      box-shadow: 0px 1px 2px rgba(60, 64, 67, 0.3), 0px 1px 3px 1px rgba(60, 64, 67, 0.15);\n",
              "      fill: #174EA6;\n",
              "    }\n",
              "\n",
              "    [theme=dark] .colab-df-convert {\n",
              "      background-color: #3B4455;\n",
              "      fill: #D2E3FC;\n",
              "    }\n",
              "\n",
              "    [theme=dark] .colab-df-convert:hover {\n",
              "      background-color: #434B5C;\n",
              "      box-shadow: 0px 1px 3px 1px rgba(0, 0, 0, 0.15);\n",
              "      filter: drop-shadow(0px 1px 2px rgba(0, 0, 0, 0.3));\n",
              "      fill: #FFFFFF;\n",
              "    }\n",
              "  </style>\n",
              "\n",
              "      <script>\n",
              "        const buttonEl =\n",
              "          document.querySelector('#df-9d03e294-ee36-447c-8b9c-02f1233c98c6 button.colab-df-convert');\n",
              "        buttonEl.style.display =\n",
              "          google.colab.kernel.accessAllowed ? 'block' : 'none';\n",
              "\n",
              "        async function convertToInteractive(key) {\n",
              "          const element = document.querySelector('#df-9d03e294-ee36-447c-8b9c-02f1233c98c6');\n",
              "          const dataTable =\n",
              "            await google.colab.kernel.invokeFunction('convertToInteractive',\n",
              "                                                     [key], {});\n",
              "          if (!dataTable) return;\n",
              "\n",
              "          const docLinkHtml = 'Like what you see? Visit the ' +\n",
              "            '<a target=\"_blank\" href=https://colab.research.google.com/notebooks/data_table.ipynb>data table notebook</a>'\n",
              "            + ' to learn more about interactive tables.';\n",
              "          element.innerHTML = '';\n",
              "          dataTable['output_type'] = 'display_data';\n",
              "          await google.colab.output.renderOutput(dataTable, element);\n",
              "          const docLink = document.createElement('div');\n",
              "          docLink.innerHTML = docLinkHtml;\n",
              "          element.appendChild(docLink);\n",
              "        }\n",
              "      </script>\n",
              "    </div>\n",
              "  </div>\n",
              "  "
            ]
          },
          "metadata": {},
          "execution_count": 1
        }
      ],
      "source": [
        "import pandas as pd\n",
        "df = pd.read_csv(\"jun_gwang_tomato_netdb3.csv\")\n",
        "df.head()"
      ]
    },
    {
      "cell_type": "code",
      "source": [
        "df.info()"
      ],
      "metadata": {
        "colab": {
          "base_uri": "https://localhost:8080/"
        },
        "id": "npKpPZxWZPer",
        "outputId": "b1fdd77e-fdca-4441-dc64-5dfc72373de5"
      },
      "execution_count": 2,
      "outputs": [
        {
          "output_type": "stream",
          "name": "stdout",
          "text": [
            "<class 'pandas.core.frame.DataFrame'>\n",
            "RangeIndex: 59 entries, 0 to 58\n",
            "Data columns (total 25 columns):\n",
            " #   Column    Non-Null Count  Dtype  \n",
            "---  ------    --------------  -----  \n",
            " 0   시설ID      59 non-null     object \n",
            " 1   시도        59 non-null     object \n",
            " 2   시군구       59 non-null     object \n",
            " 3   품목명       59 non-null     object \n",
            " 4   품종        20 non-null     object \n",
            " 5   재배면적      59 non-null     object \n",
            " 6   시설유형      38 non-null     object \n",
            " 7   재배형태      38 non-null     object \n",
            " 8   단동/연동 구분  38 non-null     object \n",
            " 9   수집일       59 non-null     object \n",
            " 10  조사일       59 non-null     object \n",
            " 11  주차        59 non-null     object \n",
            " 12  내부온도      59 non-null     float64\n",
            " 13  내부습도      59 non-null     float64\n",
            " 14  내부CO2     41 non-null     float64\n",
            " 15  생장길이      28 non-null     float64\n",
            " 16  화방높이      46 non-null     float64\n",
            " 17  줄기직경      59 non-null     float64\n",
            " 18  엽장        59 non-null     int64  \n",
            " 19  엽폭        59 non-null     float64\n",
            " 20  엽수        46 non-null     float64\n",
            " 21  개화군       49 non-null     float64\n",
            " 22  착과군       52 non-null     float64\n",
            " 23  열매수       56 non-null     float64\n",
            " 24  최종화방차수    24 non-null     float64\n",
            "dtypes: float64(12), int64(1), object(12)\n",
            "memory usage: 11.6+ KB\n"
          ]
        }
      ]
    },
    {
      "cell_type": "code",
      "source": [
        "from sklearn.model_selection import train_test_split\n",
        "x = df[['내부온도', '내부습도']]\n",
        "y = df[['엽장']]\n",
        "x_train, x_test, y_train, y_test = train_test_split(x, y, train_size=0.8, test_size=0.2)"
      ],
      "metadata": {
        "id": "JJHDNHleZQ3K"
      },
      "execution_count": 3,
      "outputs": []
    },
    {
      "cell_type": "code",
      "source": [
        "from sklearn.linear_model import LinearRegression\n",
        "mlr = LinearRegression()\n",
        "mlr.fit(x_train, y_train) "
      ],
      "metadata": {
        "colab": {
          "base_uri": "https://localhost:8080/"
        },
        "id": "ssN8rfvnZVOk",
        "outputId": "c9410271-8ed9-43e9-cbed-a6a2682693f2"
      },
      "execution_count": 4,
      "outputs": [
        {
          "output_type": "execute_result",
          "data": {
            "text/plain": [
              "LinearRegression()"
            ]
          },
          "metadata": {},
          "execution_count": 4
        }
      ]
    },
    {
      "cell_type": "code",
      "source": [
        "my_apartment = [[1, 1]]\n",
        "my_predict = mlr.predict(my_apartment)"
      ],
      "metadata": {
        "colab": {
          "base_uri": "https://localhost:8080/"
        },
        "id": "0cvETwpZZWqK",
        "outputId": "f447aa5d-88a8-4b11-c1d4-70b9bfcac864"
      },
      "execution_count": 5,
      "outputs": [
        {
          "output_type": "stream",
          "name": "stderr",
          "text": [
            "/usr/local/lib/python3.7/dist-packages/sklearn/base.py:451: UserWarning: X does not have valid feature names, but LinearRegression was fitted with feature names\n",
            "  \"X does not have valid feature names, but\"\n"
          ]
        }
      ]
    },
    {
      "cell_type": "code",
      "source": [
        "y_predict = mlr.predict(x_test)"
      ],
      "metadata": {
        "id": "UtC6J7KiZY_J"
      },
      "execution_count": 6,
      "outputs": []
    },
    {
      "cell_type": "code",
      "source": [
        "import matplotlib.pyplot as plt\n",
        "plt.scatter(y_test, y_predict, alpha=0.4)\n",
        "plt.xlabel(\"Actual 엽장\")\n",
        "plt.ylabel(\"Predicted 엽장\")\n",
        "plt.title(\"MULTIPLE LINEAR REGRESSION\")\n",
        "plt.show()"
      ],
      "metadata": {
        "colab": {
          "base_uri": "https://localhost:8080/",
          "height": 462
        },
        "id": "tGFkC9KyZahv",
        "outputId": "b02d4097-aa50-4e35-af67-df1f50772491"
      },
      "execution_count": 8,
      "outputs": [
        {
          "output_type": "stream",
          "name": "stderr",
          "text": [
            "/usr/local/lib/python3.7/dist-packages/matplotlib/backends/backend_agg.py:214: RuntimeWarning: Glyph 50685 missing from current font.\n",
            "  font.set_text(s, 0.0, flags=flags)\n",
            "/usr/local/lib/python3.7/dist-packages/matplotlib/backends/backend_agg.py:214: RuntimeWarning: Glyph 51109 missing from current font.\n",
            "  font.set_text(s, 0.0, flags=flags)\n",
            "/usr/local/lib/python3.7/dist-packages/matplotlib/backends/backend_agg.py:183: RuntimeWarning: Glyph 50685 missing from current font.\n",
            "  font.set_text(s, 0, flags=flags)\n",
            "/usr/local/lib/python3.7/dist-packages/matplotlib/backends/backend_agg.py:183: RuntimeWarning: Glyph 51109 missing from current font.\n",
            "  font.set_text(s, 0, flags=flags)\n"
          ]
        },
        {
          "output_type": "display_data",
          "data": {
            "text/plain": [
              "<Figure size 432x288 with 1 Axes>"
            ],
            "image/png": "[encoded data removed]"
          },
          "metadata": {
            "needs_background": "light"
          }
        }
      ]
    },
    {
      "cell_type": "code",
      "source": [
        "print(mlr.coef_)\n",
        "print('가중치 a : ', mlr.coef_)\n",
        "print('y절편 : ', mlr.intercept_)"
      ],
      "metadata": {
        "colab": {
          "base_uri": "https://localhost:8080/"
        },
        "id": "H_4ZwEYkZb0A",
        "outputId": "d5f4e779-2872-4d16-d33c-aadcb6ac1ee9"
      },
      "execution_count": 9,
      "outputs": [
        {
          "output_type": "stream",
          "name": "stdout",
          "text": [
            "[[-0.08669737  0.03915908]]\n",
            "가중치 a :  [[-0.08669737  0.03915908]]\n",
            "y절편 :  [32.73828713]\n"
          ]
        }
      ]
    },
    {
      "cell_type": "code",
      "source": [
        "#결정계수\n",
        "relation_square = mlr.score(x, y)\n",
        "print('결정계수 : ', relation_square)"
      ],
      "metadata": {
        "colab": {
          "base_uri": "https://localhost:8080/"
        },
        "id": "nmTburUeZhY8",
        "outputId": "6b4a2840-d96f-4588-9123-c208bd451060"
      },
      "execution_count": 10,
      "outputs": [
        {
          "output_type": "stream",
          "name": "stdout",
          "text": [
            "결정계수 :  0.009245822082585953\n"
          ]
        }
      ]
    },
    {
      "cell_type": "code",
      "source": [
        "plt.scatter(df[['내부온도']], df[['엽장']], alpha=0.4)\n",
        "plt.show()"
      ],
      "metadata": {
        "colab": {
          "base_uri": "https://localhost:8080/",
          "height": 265
        },
        "id": "69YTH4SuZi4z",
        "outputId": "8da17a56-ee6e-4078-b955-758ea96081e0"
      },
      "execution_count": 13,
      "outputs": [
        {
          "output_type": "display_data",
          "data": {
            "text/plain": [
              "<Figure size 432x288 with 1 Axes>"
            ],
            "image/png": "[encoded data removed]"
          },
          "metadata": {
            "needs_background": "light"
          }
        }
      ]
    },
    {
      "cell_type": "code",
      "source": [
        "plt.scatter(df[['내부습도']], df[['엽장']], alpha=0.4)\n",
        "plt.show()"
      ],
      "metadata": {
        "colab": {
          "base_uri": "https://localhost:8080/",
          "height": 265
        },
        "id": "P1rVUQCrZkn0",
        "outputId": "d57f4691-1951-461f-f40c-2338571a4f56"
      },
      "execution_count": 14,
      "outputs": [
        {
          "output_type": "display_data",
          "data": {
            "text/plain": [
              "<Figure size 432x288 with 1 Axes>"
            ],
            "image/png": "[encoded data removed]"
          },
          "metadata": {
            "needs_background": "light"
          }
        }
      ]
    },
    {
      "cell_type": "code",
      "source": [
        "((y - y.mean()) ** 2).sum()"
      ],
      "metadata": {
        "colab": {
          "base_uri": "https://localhost:8080/"
        },
        "id": "Pn_dMAvqZmaC",
        "outputId": "d6b1c2b6-14eb-4eeb-a6fd-53f26b3e9d88"
      },
      "execution_count": 15,
      "outputs": [
        {
          "output_type": "execute_result",
          "data": {
            "text/plain": [
              "엽장    1520.033898\n",
              "dtype: float64"
            ]
          },
          "metadata": {},
          "execution_count": 15
        }
      ]
    },
    {
      "cell_type": "code",
      "source": [
        "\n",
        "import matplotlib.pyplot as plot\n",
        "import seaborn as sns\n",
        "ax1 = sns.distplot(y, hist = False, label = 'y실제')\n",
        "ax2 = sns.distplot(y_predict, hist = False, label = 'y예측')\n",
        "plot.show()"
      ],
      "metadata": {
        "colab": {
          "base_uri": "https://localhost:8080/",
          "height": 358
        },
        "id": "guDgCueZZuI0",
        "outputId": "d7a3bb3e-72de-4d90-d3b9-d3f5b865f4cc"
      },
      "execution_count": 16,
      "outputs": [
        {
          "output_type": "stream",
          "name": "stderr",
          "text": [
            "/usr/local/lib/python3.7/dist-packages/seaborn/distributions.py:2619: FutureWarning: `distplot` is a deprecated function and will be removed in a future version. Please adapt your code to use either `displot` (a figure-level function with similar flexibility) or `kdeplot` (an axes-level function for kernel density plots).\n",
            "  warnings.warn(msg, FutureWarning)\n",
            "/usr/local/lib/python3.7/dist-packages/seaborn/distributions.py:2619: FutureWarning: `distplot` is a deprecated function and will be removed in a future version. Please adapt your code to use either `displot` (a figure-level function with similar flexibility) or `kdeplot` (an axes-level function for kernel density plots).\n",
            "  warnings.warn(msg, FutureWarning)\n"
          ]
        },
        {
          "output_type": "display_data",
          "data": {
            "text/plain": [
              "<Figure size 432x288 with 1 Axes>"
            ],
            "image/png": "[encoded data removed]"
          },
          "metadata": {
            "needs_background": "light"
          }
        }
      ]
    },
    {
      "cell_type": "code",
      "source": [
        ""
      ],
      "metadata": {
        "id": "16B6N1npZu5d"
      },
      "execution_count": null,
      "outputs": []
    }
  ]
}